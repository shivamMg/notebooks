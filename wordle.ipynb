{
 "cells": [
  {
   "cell_type": "code",
   "execution_count": 21,
   "id": "b2e29547",
   "metadata": {},
   "outputs": [],
   "source": [
    "import string\n",
    "\n",
    "WORDS_FILE = '/usr/share/dict/words'  # https://en.wikipedia.org/wiki/Words_(Unix)\n",
    "\n",
    "words = set()\n",
    "with open(WORDS_FILE) as f:\n",
    "    for word in f:\n",
    "        cleaned = word.rstrip('\\n').lower()\n",
    "        if len(cleaned) == 5 and all([ch in string.ascii_lowercase for ch in cleaned]):\n",
    "            words.add(cleaned)\n",
    "words = list(words)"
   ]
  },
  {
   "cell_type": "code",
   "execution_count": 24,
   "id": "c0473351",
   "metadata": {},
   "outputs": [
    {
     "name": "stdout",
     "output_type": "stream",
     "text": [
      "choice: whops\n",
      "result: xxxxx\n",
      "\n",
      "choice: exalt\n",
      "result: xxyyx\n",
      "\n",
      "choice: clang\n",
      "result: xyyxx\n",
      "\n",
      "choice: vidal\n",
      "result: continue\n",
      "choice: advil\n",
      "result: continue\n",
      "choice: mural\n",
      "result: xxgyy\n",
      "\n",
      "choice: daryl\n",
      "result: continue\n",
      "choice: lardy\n",
      "result: gggxx\n",
      "\n",
      "choice: larva\n",
      "result: break\n"
     ]
    }
   ],
   "source": [
    "import random\n",
    "\n",
    "\n",
    "def random_choice(words): \n",
    "    without_dups = [word for word in words if len(set(word)) == 5]\n",
    "    return random.choice(without_dups if without_dups else words)\n",
    "\n",
    "\n",
    "while True:\n",
    "    choice = random_choice(words)\n",
    "    print('choice:', choice)\n",
    "    result = input('result: ')\n",
    "    if result == 'continue':\n",
    "        continue\n",
    "    if result == 'break':\n",
    "        break\n",
    "    for i, ch in enumerate(choice):\n",
    "        res = result[i]\n",
    "        if res == 'x':\n",
    "            words = [w for w in words if ch not in w]\n",
    "        elif res == 'y':\n",
    "            words = [w for w in words if ch in w]\n",
    "        elif res == 'g':\n",
    "            words = [w for w in words if w[i] == ch]\n",
    "        else:\n",
    "            raise Exception('result for each character must be one of [x,y,g]')        \n",
    "    print()"
   ]
  },
  {
   "cell_type": "code",
   "execution_count": null,
   "id": "1b8995f7",
   "metadata": {},
   "outputs": [],
   "source": []
  }
 ],
 "metadata": {
  "kernelspec": {
   "display_name": "Python 3 (ipykernel)",
   "language": "python",
   "name": "python3"
  },
  "language_info": {
   "codemirror_mode": {
    "name": "ipython",
    "version": 3
   },
   "file_extension": ".py",
   "mimetype": "text/x-python",
   "name": "python",
   "nbconvert_exporter": "python",
   "pygments_lexer": "ipython3",
   "version": "3.10.2"
  }
 },
 "nbformat": 4,
 "nbformat_minor": 5
}

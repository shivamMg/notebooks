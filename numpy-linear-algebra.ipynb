{
 "cells": [
  {
   "cell_type": "code",
   "execution_count": 3,
   "id": "d1928d2c",
   "metadata": {},
   "outputs": [],
   "source": [
    "import pandas as pd\n",
    "import numpy as np"
   ]
  },
  {
   "cell_type": "code",
   "execution_count": 5,
   "id": "feb58779",
   "metadata": {},
   "outputs": [
    {
     "data": {
      "text/plain": [
       "array([2, 4, 6])"
      ]
     },
     "execution_count": 5,
     "metadata": {},
     "output_type": "execute_result"
    }
   ],
   "source": [
    "arr1 = np.array([1, 2, 3])\n",
    "arr2 = np.array([1, 2, 3])\n",
    "arr1 + arr2"
   ]
  },
  {
   "cell_type": "code",
   "execution_count": 6,
   "id": "acab1252",
   "metadata": {},
   "outputs": [
    {
     "data": {
      "text/plain": [
       "array([10, 20, 30])"
      ]
     },
     "execution_count": 6,
     "metadata": {},
     "output_type": "execute_result"
    }
   ],
   "source": [
    "arr1 * 10"
   ]
  },
  {
   "cell_type": "code",
   "execution_count": 31,
   "id": "8b4d300a",
   "metadata": {},
   "outputs": [
    {
     "data": {
      "text/plain": [
       "60"
      ]
     },
     "execution_count": 31,
     "metadata": {},
     "output_type": "execute_result"
    }
   ],
   "source": [
    "np.sum(arr1 * np.array([10]))"
   ]
  },
  {
   "cell_type": "code",
   "execution_count": 32,
   "id": "40d2c1d8",
   "metadata": {},
   "outputs": [
    {
     "name": "stdout",
     "output_type": "stream",
     "text": [
      "(3, 2) (2, 1)\n",
      "[[ 5]\n",
      " [11]\n",
      " [17]] (3, 1)\n"
     ]
    }
   ],
   "source": [
    "mtx1 = np.array([[1, 2], [3, 4], [5, 6]])\n",
    "mtx2 = np.array([[1], [2]])\n",
    "print(mtx1.shape, mtx2.shape)\n",
    "result = np.dot(mtx1, mtx2)\n",
    "print(result, result.shape)"
   ]
  },
  {
   "cell_type": "code",
   "execution_count": 21,
   "id": "322559ca",
   "metadata": {},
   "outputs": [],
   "source": [
    "# Matrices are not commutative: A*B != B*A\n",
    "# Matrices are associative: (A*B)*C = A*(B*C)"
   ]
  },
  {
   "cell_type": "code",
   "execution_count": 27,
   "id": "67ecac5a",
   "metadata": {},
   "outputs": [
    {
     "data": {
      "text/plain": [
       "array([[-2.5,  1.5],\n",
       "       [ 2. , -1. ]])"
      ]
     },
     "execution_count": 27,
     "metadata": {},
     "output_type": "execute_result"
    }
   ],
   "source": [
    "mtx = np.array([[2, 3], [4, 5]])\n",
    "inverse_mtx = np.linalg.inv(mtx)\n",
    "inverse_mtx"
   ]
  },
  {
   "cell_type": "code",
   "execution_count": 29,
   "id": "27a634c9",
   "metadata": {},
   "outputs": [
    {
     "data": {
      "text/plain": [
       "array([[1., 0.],\n",
       "       [0., 1.]])"
      ]
     },
     "execution_count": 29,
     "metadata": {},
     "output_type": "execute_result"
    }
   ],
   "source": [
    "identity_mtx = np.dot(mtx, inverse_mtx)\n",
    "identity_mtx"
   ]
  },
  {
   "cell_type": "code",
   "execution_count": 37,
   "id": "d95c2847",
   "metadata": {},
   "outputs": [
    {
     "data": {
      "text/plain": [
       "array([[2, 4],\n",
       "       [3, 5]])"
      ]
     },
     "execution_count": 37,
     "metadata": {},
     "output_type": "execute_result"
    }
   ],
   "source": [
    "transpose_mtx = np.transpose(mtx)\n",
    "transpose_mtx"
   ]
  },
  {
   "cell_type": "code",
   "execution_count": 38,
   "id": "bf915ba4",
   "metadata": {},
   "outputs": [
    {
     "data": {
      "text/plain": [
       "array([[8, 1, 4]])"
      ]
     },
     "execution_count": 38,
     "metadata": {},
     "output_type": "execute_result"
    }
   ],
   "source": [
    "np.transpose(np.array([[8], [1], [4]]))"
   ]
  },
  {
   "cell_type": "code",
   "execution_count": null,
   "id": "09cdcd71",
   "metadata": {},
   "outputs": [],
   "source": []
  }
 ],
 "metadata": {
  "kernelspec": {
   "display_name": "Python 3 (ipykernel)",
   "language": "python",
   "name": "python3"
  },
  "language_info": {
   "codemirror_mode": {
    "name": "ipython",
    "version": 3
   },
   "file_extension": ".py",
   "mimetype": "text/x-python",
   "name": "python",
   "nbconvert_exporter": "python",
   "pygments_lexer": "ipython3",
   "version": "3.8.10"
  }
 },
 "nbformat": 4,
 "nbformat_minor": 5
}
